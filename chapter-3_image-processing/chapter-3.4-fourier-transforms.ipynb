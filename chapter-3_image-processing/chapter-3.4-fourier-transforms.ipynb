{
 "cells": [
  {
   "cell_type": "code",
   "execution_count": 1,
   "metadata": {},
   "outputs": [],
   "source": [
    "%matplotlib inline\n",
    "\n",
    "import matplotlib.pyplot as plt\n",
    "import matplotlib.image as mpimg\n",
    "\n",
    "import numpy as np\n",
    "import cv2"
   ]
  },
  {
   "cell_type": "code",
   "execution_count": 36,
   "metadata": {},
   "outputs": [
    {
     "name": "stdout",
     "output_type": "stream",
     "text": [
      "Box 3\n",
      "[0.3333 0.3333 0.3333]\n",
      "[0.99975586+0.j 0.        +0.j 0.        +0.j]\n",
      "Box 5\n",
      "[0.2 0.2 0.2 0.2 0.2]\n",
      "[9.99755859e-01+0.j 0.00000000e+00+0.j 1.38777878e-17+0.j\n",
      " 1.38777878e-17+0.j 0.00000000e+00+0.j]\n",
      "Linear\n",
      "[0.25 0.5  0.25]\n",
      "[ 1.   +0.j         -0.125-0.21650635j -0.125+0.21650635j]\n",
      "Binomial\n",
      "[0.0625 0.25   0.375  0.25   0.0625]\n",
      "[ 1.        +0.j         -0.34656781-0.25179625j  0.00281781+0.00867233j\n",
      "  0.00281781-0.00867233j -0.34656781+0.25179625j]\n",
      "Sobel\n",
      "[-0.5  0.   0.5]\n",
      "[ 0.  +0.j        -0.75+0.4330127j -0.75-0.4330127j]\n",
      "Corner\n",
      "[-0.5  1.  -0.5]\n",
      "[ 0.  +0.j         -0.75-1.29903811j -0.75+1.29903811j]\n"
     ]
    }
   ],
   "source": [
    "### 3.4 Fourier Transform\n",
    "\n",
    "# fourier transform in numpy\n",
    "box_3 = np.full((3, ), 1 /3, dtype=np.float16)\n",
    "print(\"Box 3\")\n",
    "print(box_3)\n",
    "print(np.fft.fft(box_3))\n",
    "\n",
    "box_5 = np.full((5, ), 1 /5, dtype=np.float16)\n",
    "print(\"Box 5\")\n",
    "print(box_5)\n",
    "print(np.fft.fft(box_5))\n",
    "\n",
    "linear = np.array([1, 2, 1], dtype=np.float16) / 4.\n",
    "print(\"Linear\")\n",
    "print(linear)\n",
    "print(np.fft.fft(linear))\n",
    "\n",
    "binomial = np.array([1, 4, 6, 4, 1], dtype=np.float16) / 16\n",
    "print(\"Binomial\")\n",
    "print(binomial)\n",
    "print(np.fft.fft(binomial))\n",
    "\n",
    "sobel = np.array([-1, 0, 1], dtype=np.float16) / 2\n",
    "print(\"Sobel\")\n",
    "print(sobel)\n",
    "print(np.fft.fft(sobel))\n",
    "\n",
    "corner = np.array([-1, 2, -1], dtype=np.float16) / 2\n",
    "print(\"Corner\")\n",
    "print(corner)\n",
    "print(np.fft.fft(corner))"
   ]
  }
 ],
 "metadata": {
  "kernelspec": {
   "display_name": "Python 3",
   "language": "python",
   "name": "python3"
  },
  "language_info": {
   "codemirror_mode": {
    "name": "ipython",
    "version": 3
   },
   "file_extension": ".py",
   "mimetype": "text/x-python",
   "name": "python",
   "nbconvert_exporter": "python",
   "pygments_lexer": "ipython3",
   "version": "3.10.11"
  }
 },
 "nbformat": 4,
 "nbformat_minor": 2
}
